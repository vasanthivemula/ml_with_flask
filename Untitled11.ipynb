{
  "nbformat": 4,
  "nbformat_minor": 0,
  "metadata": {
    "colab": {
      "provenance": [],
      "authorship_tag": "ABX9TyPZIsC2+YSJ8tqKE8uO2/93",
      "include_colab_link": true
    },
    "kernelspec": {
      "name": "python3",
      "display_name": "Python 3"
    },
    "language_info": {
      "name": "python"
    }
  },
  "cells": [
    {
      "cell_type": "markdown",
      "metadata": {
        "id": "view-in-github",
        "colab_type": "text"
      },
      "source": [
        "<a href=\"https://colab.research.google.com/github/vasanthivemula/ml_with_flask/blob/main/Untitled11.ipynb\" target=\"_parent\"><img src=\"https://colab.research.google.com/assets/colab-badge.svg\" alt=\"Open In Colab\"/></a>"
      ]
    },
    {
      "cell_type": "code",
      "source": [
        "import pandas as pd\n",
        "from sklearn.preprocessing import MinMaxScaler\n",
        "\n",
        "# Corrected data dictionary with commas\n",
        "data = {\n",
        "    'age': [25, 26, 27, 28, 29],\n",
        "    'height': [5, 6, 4.5, 4.2, 5.5],\n",
        "    'weight': [60, 59, 58, 57, 56]\n",
        "}\n",
        "\n",
        "# Create the DataFrame\n",
        "df = pd.DataFrame(data)\n",
        "\n",
        "# Instantiate and apply the MinMaxScaler\n",
        "scaler = MinMaxScaler()\n",
        "normalized_data = scaler.fit_transform(df)\n",
        "\n",
        "# Create a new DataFrame with normalized data\n",
        "normalized_df = pd.DataFrame(normalized_data, columns=df.columns)\n",
        "\n",
        "print(\"\\nNormalized DataFrame (scaled to range [0,1]):\")\n",
        "print(normalized_df)\n"
      ],
      "metadata": {
        "colab": {
          "base_uri": "https://localhost:8080/"
        },
        "id": "zhnRifSmUgxP",
        "outputId": "d3abef0a-77af-43b0-eaa4-72163043b35d"
      },
      "execution_count": 1,
      "outputs": [
        {
          "output_type": "stream",
          "name": "stdout",
          "text": [
            "\n",
            "Normalized DataFrame (scaled to range [0,1]):\n",
            "    age    height  weight\n",
            "0  0.00  0.444444    1.00\n",
            "1  0.25  1.000000    0.75\n",
            "2  0.50  0.166667    0.50\n",
            "3  0.75  0.000000    0.25\n",
            "4  1.00  0.722222    0.00\n"
          ]
        }
      ]
    },
    {
      "cell_type": "code",
      "source": [
        "import pandas as pd\n",
        "from sklearn.preprocessing import StandardScaler\n",
        "\n",
        "data = {\n",
        "    'age': [25, 26, 27, 28, 29],\n",
        "    'height': [5, 6, 4.5, 4.2, 5.5],\n",
        "    'weight': [60, 59, 58, 57, 56]\n",
        "}\n",
        "\n",
        "df = pd.DataFrame(data)\n",
        "\n",
        "scaler = StandardScaler()\n",
        "standardized_data = scaler.fit_transform(df)\n",
        "\n",
        "standardized_df = pd.DataFrame(standardized_data, columns=df.columns)\n",
        "\n",
        "print(\"\\nStandardized DataFrame: \")\n",
        "print(standardized_df)\n",
        "\n"
      ],
      "metadata": {
        "colab": {
          "base_uri": "https://localhost:8080/"
        },
        "id": "oH7xdXgmVSsJ",
        "outputId": "806eedd2-aa1a-4c59-a455-988514a8c05a"
      },
      "execution_count": 4,
      "outputs": [
        {
          "output_type": "stream",
          "name": "stdout",
          "text": [
            "\n",
            "Standardized DataFrame: \n",
            "        age    height    weight\n",
            "0 -1.414214 -0.061256  1.414214\n",
            "1 -0.707107  1.470153  0.707107\n",
            "2  0.000000 -0.826961  0.000000\n",
            "3  0.707107 -1.286384 -0.707107\n",
            "4  1.414214  0.704448 -1.414214\n"
          ]
        }
      ]
    }
  ]
}